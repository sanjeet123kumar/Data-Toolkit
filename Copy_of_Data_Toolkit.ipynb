{
  "nbformat": 4,
  "nbformat_minor": 0,
  "metadata": {
    "colab": {
      "provenance": []
    },
    "kernelspec": {
      "name": "python3",
      "display_name": "Python 3"
    },
    "language_info": {
      "name": "python"
    }
  },
  "cells": [
    {
      "cell_type": "markdown",
      "source": [],
      "metadata": {
        "id": "2jXj72n1_bxu"
      }
    },
    {
      "cell_type": "markdown",
      "source": [
        "1. **What is NumPy, and why is it widely used in Python**"
      ],
      "metadata": {
        "id": "bAtEW6yL_dCg"
      }
    },
    {
      "cell_type": "markdown",
      "source": [
        "NumPy is a special toolkit in Python that helps you work with numbers, especially when you have a lot of them.\n",
        "\n",
        "Think of it like a super-fast spreadsheet for Python.\n",
        "\n",
        "Instead of using regular Python lists, which are slow for big calculations, NumPy uses something called an n-dimensional array (or ndarray). This is a special type of list that stores numbers in a very organized way, making it easy and quick to do math on them.\n",
        "\n",
        "For example, if you want to add two lists together, a normal Python list would need you to go through each number one by one. NumPy, on the other hand, can add the entire arrays together in a single, simple step. This is what makes it so powerful for things like data science and scientific research."
      ],
      "metadata": {
        "id": "RRe6x8E2AHka"
      }
    },
    {
      "cell_type": "code",
      "source": [
        "import numpy as np\n",
        "\n",
        "a = np.array([1, 2, 3])\n",
        "b = np.array([4, 5, 6])\n",
        "\n",
        "# Adding arrays directly\n",
        "result = a + b\n",
        "print(result)  # [5 7 9]\n"
      ],
      "metadata": {
        "id": "frEd5yKBAvD1"
      },
      "execution_count": null,
      "outputs": []
    },
    {
      "cell_type": "markdown",
      "source": [
        "2. **How does broadcasting work in NumPy**"
      ],
      "metadata": {
        "id": "v7DoJXHRA06N"
      }
    },
    {
      "cell_type": "markdown",
      "source": [
        "Broadcasting in NumPy is a simple way to do math on arrays that have different sizes.\n",
        "\n",
        "Imagine you want to add the number **5** to every single number in a list of a hundred numbers. Normally, you'd have to write a loop to do this, adding **5** to each number one by one.\n",
        "\n",
        "Broadcasting lets you do this in one go. NumPy automatically takes that single number **5** and 'stretches' or 'broadcasts' it to match the shape of the hundred-number list. This allows the operation to happen quickly and easily without you needing to write a loop.\n",
        "\n",
        "The core idea is that a smaller array is automatically \"expanded\" to fit the shape of a larger array for a specific operation.\n",
        "\n",
        "This works for different shapes, as long as they meet a few rules:\n",
        "\n",
        "* NumPy checks the shapes of the arrays starting from the end (the last dimension).\n",
        "* If a dimension is **1**, it's \"stretched\" to match the other array's size.\n",
        "* If the sizes don't match and one isn't **1**, NumPy will give you an error."
      ],
      "metadata": {
        "id": "dZKxpJSiA9Kf"
      }
    },
    {
      "cell_type": "code",
      "source": [
        "import numpy as np\n",
        "a = np.array([1, 2, 3])\n",
        "print(a + 10)   # [11 12 13]\n"
      ],
      "metadata": {
        "id": "vmncyG4RBZKI"
      },
      "execution_count": null,
      "outputs": []
    },
    {
      "cell_type": "markdown",
      "source": [
        "3. **What is a Pandas DataFrame**"
      ],
      "metadata": {
        "id": "lUmhr0fiBaaI"
      }
    },
    {
      "cell_type": "markdown",
      "source": [
        "A Pandas DataFrame is like an Excel spreadsheet or a SQL table inside Python. It is a 2D labeled data structure with rows and columns, where each column can have a different data type (numbers, text, dates, etc.). Pandas is built on top of NumPy and makes working with data much easier.\n",
        "\n",
        "Key features of DataFrame:\n",
        "\n",
        "Data is stored in rows (index) and columns (labels).\n",
        "\n",
        "Columns can be of different types (int, float, string).\n",
        "\n",
        "Easy to handle missing data.\n",
        "\n",
        "Built-in functions for filtering, grouping, merging, and reshaping."
      ],
      "metadata": {
        "id": "YOF0ajCQBiNn"
      }
    },
    {
      "cell_type": "code",
      "source": [
        "import pandas as pd\n",
        "\n",
        "data = {\n",
        "    \"Name\": [\"Amit\", \"Riya\", \"John\"],\n",
        "    \"Age\": [23, 25, 22],\n",
        "    \"Marks\": [85, 90, 88]\n",
        "}\n",
        "\n",
        "df = pd.DataFrame(data)\n",
        "print(df)\n"
      ],
      "metadata": {
        "id": "j8ePNQNrBoIv"
      },
      "execution_count": null,
      "outputs": []
    },
    {
      "cell_type": "code",
      "source": [
        "   Name  Age  Marks\n",
        "0  Amit   23     85\n",
        "1  Riya   25     90\n",
        "2  John   22     88\n"
      ],
      "metadata": {
        "id": "4_zUTePABrOQ"
      },
      "execution_count": null,
      "outputs": []
    },
    {
      "cell_type": "markdown",
      "source": [
        "4. **Explain the use of the groupby() method in Pandas**"
      ],
      "metadata": {
        "id": "sy2RaE5YBwj3"
      }
    },
    {
      "cell_type": "markdown",
      "source": [
        "The groupby() method in Pandas is used when we want to split data into groups, perform operations on each group, and then combine the results. It is very useful for summarizing and analyzing data.\n",
        "\n",
        "Think of groupby() as:\n",
        "Split → Apply → Combine\n",
        "\n",
        "Example 1: Group by one column"
      ],
      "metadata": {
        "id": "kGONFeWfB_1h"
      }
    },
    {
      "cell_type": "code",
      "source": [
        "import pandas as pd\n",
        "\n",
        "data = {\n",
        "    \"Department\": [\"IT\", \"IT\", \"HR\", \"HR\", \"Finance\"],\n",
        "    \"Salary\": [50000, 60000, 40000, 45000, 70000]\n",
        "}\n",
        "\n",
        "df = pd.DataFrame(data)\n",
        "\n",
        "# Average salary by department\n",
        "print(df.groupby(\"Department\")[\"Salary\"].mean())\n"
      ],
      "metadata": {
        "id": "Ey-JdH_sCGEO"
      },
      "execution_count": null,
      "outputs": []
    },
    {
      "cell_type": "code",
      "source": [
        "Department\n",
        "Finance    70000\n",
        "HR         42500\n",
        "IT         55000\n",
        "Name: Salary, dtype: int64\n"
      ],
      "metadata": {
        "id": "VEUPFmTRCKkU"
      },
      "execution_count": null,
      "outputs": []
    },
    {
      "cell_type": "markdown",
      "source": [
        "5. **Why is Seaborn preferred for statistical visualizations**"
      ],
      "metadata": {
        "id": "Yg8CL-bzCWff"
      }
    },
    {
      "cell_type": "markdown",
      "source": [
        "Seaborn sits on top of Matplotlib and focuses on statistics-friendly plots. It gives beautiful default styles, smart color palettes, and functions that understand DataFrames directly. This makes it easy to plot variables by column names and add statistical summaries (like confidence intervals) without extra code.\n",
        "\n",
        "Why many people prefer it:\n",
        "\n",
        "Better defaults: Clean themes and palettes make charts look professional with little effort.\n",
        "\n",
        "Works with Pandas: Pass a DataFrame and column names; no manual array slicing.\n",
        "\n",
        "Built-in stats: sns.regplot() draws a regression line with a confidence band; sns.violinplot() and sns.boxplot() summarize distributions; sns.countplot() handles categorical counts.\n",
        "\n",
        "Faceting: sns.catplot()/sns.relplot() create small multiples by category.\n",
        "\n",
        "Color handling: Automatic, perceptually balanced palettes for categories and continuous data."
      ],
      "metadata": {
        "id": "8UoI-SdfCZnX"
      }
    },
    {
      "cell_type": "code",
      "source": [
        "import seaborn as sns\n",
        "import pandas as pd\n",
        "\n",
        "tips = sns.load_dataset(\"tips\")\n",
        "sns.set_theme()\n",
        "\n",
        "# Compare total_bill by day with a boxplot\n",
        "sns.boxplot(data=tips, x=\"day\", y=\"total_bill\")\n",
        "\n",
        "# Add regression with confidence interval\n",
        "sns.regplot(data=tips, x=\"total_bill\", y=\"tip\")\n"
      ],
      "metadata": {
        "id": "ok5GzQ-fCjWv"
      },
      "execution_count": null,
      "outputs": []
    },
    {
      "cell_type": "markdown",
      "source": [
        "6. **What are the differences between NumPy arrays and Python lists**"
      ],
      "metadata": {
        "id": "P6cHNWW1Cp4c"
      }
    },
    {
      "cell_type": "markdown",
      "source": [
        "NumPy arrays and Python lists both hold collections, but they are designed for different goals.\n",
        "\n",
        "NumPy arrays (ndarray):\n",
        "\n",
        "Homogeneous: All elements share one data type (e.g., float64), which saves memory.\n",
        "\n",
        "Fast math: Vectorized operations run in optimized C code; no Python loops.\n",
        "\n",
        "Shapes & broadcasting: Work in multiple dimensions (2D, 3D…) and support broadcasting.\n",
        "\n",
        "Slicing returns views: Often no copy; edits can affect the original (fast, memory-efficient).\n",
        "\n",
        "Rich APIs: Linear algebra, FFT, random numbers.\n",
        "\n",
        "Python lists:\n",
        "\n",
        "Heterogeneous: Can store mixed types ([1, \"a\", 3.2]).\n",
        "\n",
        "Flexible: Great for general programming, but slower for heavy numeric work.\n",
        "\n",
        "No vectorized math: You must loop or use list comprehensions.\n",
        "\n",
        "Slicing copies: Typically independent of the original."
      ],
      "metadata": {
        "id": "8iRkJ_TECsuc"
      }
    },
    {
      "cell_type": "code",
      "source": [
        "import numpy as np\n",
        "a = np.array([1,2,3], dtype=float)\n",
        "b = np.array([4,5,6], dtype=float)\n",
        "print(a + b)       # [5. 7. 9.]\n",
        "print(a * b)       # [ 4. 10. 18.]\n"
      ],
      "metadata": {
        "id": "Zk9bjjwtCzuh"
      },
      "execution_count": null,
      "outputs": []
    },
    {
      "cell_type": "code",
      "source": [
        "x = [1,2,3]; y = [4,5,6]\n",
        "z = [xi + yi for xi, yi in zip(x, y)]  # manual loop\n"
      ],
      "metadata": {
        "id": "NHbAD8DzC2Cz"
      },
      "execution_count": null,
      "outputs": []
    },
    {
      "cell_type": "markdown",
      "source": [
        "7. **What is a heatmap, and when should it be used**"
      ],
      "metadata": {
        "id": "NBfVjoyqC_AI"
      }
    },
    {
      "cell_type": "markdown",
      "source": [
        "A heatmap displays values in a table or matrix using color intensity. Darker or brighter colors indicate larger or smaller numbers. Heatmaps are helpful when you want to see patterns, clusters, or correlations in a 2D grid of numbers at a glance.\n",
        "\n",
        "Common uses:\n",
        "\n",
        "Correlation matrix: See which variables move together.\n",
        "\n",
        "Confusion matrix: Evaluate classification model performance (TP/FP/FN/TN).\n",
        "\n",
        "Pivoted summaries: Show sales by Region × Product, or attendance by Day × Hour.\n",
        "\n",
        "Time vs feature: Spot seasonal or hourly trends.\n",
        "\n",
        "Good moments to use heatmaps:\n",
        "\n",
        "When values are dense and exact numbers matter less than overall patterns.\n",
        "\n",
        "When you want to compare many categories across two dimensions."
      ],
      "metadata": {
        "id": "rlQNuxf0DMvl"
      }
    },
    {
      "cell_type": "code",
      "source": [
        "import seaborn as sns\n",
        "import pandas as pd\n",
        "\n",
        "df = sns.load_dataset(\"iris\").drop(columns=[\"species\"])\n",
        "corr = df.corr(numeric_only=True)\n",
        "sns.heatmap(corr, annot=True, fmt=\".2f\")\n"
      ],
      "metadata": {
        "id": "T23ztK8PDQJ0"
      },
      "execution_count": null,
      "outputs": []
    },
    {
      "cell_type": "markdown",
      "source": [
        "8. **What does the term “vectorized operation” mean in NumPy**"
      ],
      "metadata": {
        "id": "A5GpAkmFDTly"
      }
    },
    {
      "cell_type": "markdown",
      "source": [
        "A vectorized operation means performing a mathematical operation on entire arrays at once—without explicit Python loops. Under the hood, NumPy runs fast C-level loops on contiguous memory, which makes it much faster and the code shorter.\n",
        "\n",
        "Why it matters:\n",
        "\n",
        "Speed: Avoids Python’s per-element overhead.\n",
        "\n",
        "Clarity: Code reads like math.\n",
        "\n",
        "Less bugs: Fewer loops, fewer mistakes."
      ],
      "metadata": {
        "id": "LshOIvgtDet2"
      }
    },
    {
      "cell_type": "code",
      "source": [
        "import numpy as np\n",
        "a = np.array([1, 2, 3, 4], dtype=float)\n",
        "\n",
        "# Vectorized expression on all elements\n",
        "y = a**2 + 2*a + 1        # (a + 1)^2\n",
        "print(y)  # [4. 9. 16. 25.]\n"
      ],
      "metadata": {
        "id": "UMgHYAobDn45"
      },
      "execution_count": null,
      "outputs": []
    },
    {
      "cell_type": "code",
      "source": [
        "a = [1,2,3,4]\n",
        "y = []\n",
        "for v in a:\n",
        "    y.append(v**2 + 2*v + 1)\n"
      ],
      "metadata": {
        "id": "yVxQvBCvDqoo"
      },
      "execution_count": null,
      "outputs": []
    },
    {
      "cell_type": "markdown",
      "source": [
        "9. **How does Matplotlib differ from Plotly**"
      ],
      "metadata": {
        "id": "e-WgWZeEDvqv"
      }
    },
    {
      "cell_type": "markdown",
      "source": [
        "Matplotlib is the foundational Python plotting library—excellent for static, publication-quality figures and fine-grained control. Plotly is designed for interactive, web-ready graphics with built-in hover, zoom, and tooltips.\n",
        "\n",
        "Matplotlib:\n",
        "\n",
        "Strengths: Full control over figure elements; integrates with scientific Python; great for static reports and journals.\n",
        "\n",
        "Usage: Imperative API (plt.plot, plt.scatter), plus object-oriented approach.\n",
        "\n",
        "Interactivity: Limited without extras (e.g., %matplotlib notebook, widgets).\n",
        "\n",
        "Plotly:\n",
        "\n",
        "Strengths: Interactivity by default (hover labels, pan/zoom, legend toggles).\n",
        "\n",
        "Web friendly: Exports to HTML; easy to embed in dashboards/apps.\n",
        "\n",
        "High-level API: plotly.express creates rich charts with minimal code."
      ],
      "metadata": {
        "id": "PaXsKTF2D6YU"
      }
    },
    {
      "cell_type": "code",
      "source": [
        "import matplotlib.pyplot as plt\n",
        "x = [1,2,3,4]; y = [3,1,4,2]\n",
        "plt.plot(x, y, marker=\"o\")\n",
        "plt.title(\"Matplotlib Line\")\n",
        "plt.show()\n"
      ],
      "metadata": {
        "id": "qqgfeJHiD_D4"
      },
      "execution_count": null,
      "outputs": []
    },
    {
      "cell_type": "code",
      "source": [
        "import plotly.express as px\n",
        "fig = px.line(x=[1,2,3,4], y=[3,1,4,2], title=\"Plotly Line\")\n",
        "fig.show()\n"
      ],
      "metadata": {
        "id": "dlfmWPdiEBIC"
      },
      "execution_count": null,
      "outputs": []
    },
    {
      "cell_type": "markdown",
      "source": [
        "10. **What is the significance of hierarchical indexing in Pandas**"
      ],
      "metadata": {
        "id": "qw6ikVYhEFkc"
      }
    },
    {
      "cell_type": "markdown",
      "source": [
        "Hierarchical indexing (MultiIndex) allows multiple levels of labels for rows and/or columns. It’s powerful when your data has natural hierarchies (e.g., Country → State → City) or when you want to reshape data elegantly.\n",
        "\n",
        "Benefits:\n",
        "\n",
        "Compact representation: Store higher-dimensional data in 2D tables.\n",
        "\n",
        "Easy subsetting: Slice by one or more levels.\n",
        "\n",
        "Group operations: Aggregate at different hierarchy levels.\n",
        "\n",
        "Reshaping: Works smoothly with stack(), unstack(), and pivot_table()."
      ],
      "metadata": {
        "id": "jr5dkFEgEM5S"
      }
    },
    {
      "cell_type": "code",
      "source": [
        "import pandas as pd\n",
        "\n",
        "data = {\n",
        "    \"state\": [\"KA\",\"KA\",\"MH\",\"MH\"],\n",
        "    \"city\":  [\"BLR\",\"MYS\",\"MUM\",\"PUN\"],\n",
        "    \"sales\": [100, 80, 120, 90]\n",
        "}\n",
        "df = pd.DataFrame(data).set_index([\"state\",\"city\"])\n",
        "# Select one state\n",
        "print(df.loc[\"KA\"])\n",
        "# Add a column level via unstack\n",
        "print(df[\"sales\"].unstack())  # cities as columns\n"
      ],
      "metadata": {
        "id": "j-pXBblZEUBe"
      },
      "execution_count": null,
      "outputs": []
    },
    {
      "cell_type": "markdown",
      "source": [
        "11. **What is the role of Seaborn’s pairplot() function**"
      ],
      "metadata": {
        "id": "e2v4riFwEWUH"
      }
    },
    {
      "cell_type": "markdown",
      "source": [
        "pairplot() shows pairwise relationships among several numeric variables in one figure. It creates a grid: scatter plots for every pair of variables and histograms/KDEs on the diagonal for each single variable. This gives a quick overview of correlations, clusters, and outliers.\n",
        "\n",
        "Why it’s useful:\n",
        "\n",
        "Exploratory data analysis (EDA): See how features relate before modeling.\n",
        "\n",
        "Class separation: Add hue= to color points by a category and inspect separability.\n",
        "\n",
        "Quick insights: Spot linear/nonlinear trends and anomalous points."
      ],
      "metadata": {
        "id": "K1Kl7xdPEgKd"
      }
    },
    {
      "cell_type": "code",
      "source": [
        "import seaborn as sns\n",
        "sns.set_theme()\n",
        "\n",
        "iris = sns.load_dataset(\"iris\")\n",
        "sns.pairplot(iris, hue=\"species\")\n"
      ],
      "metadata": {
        "id": "4ce5kn-YEj_i"
      },
      "execution_count": null,
      "outputs": []
    },
    {
      "cell_type": "markdown",
      "source": [
        "12. **What is the purpose of the describe() function in Pandas**"
      ],
      "metadata": {
        "id": "U2SNZqi3Enrs"
      }
    },
    {
      "cell_type": "markdown",
      "source": [
        "describe() provides summary statistics for a DataFrame or Series. It’s a one-line way to understand a dataset’s center, spread, and shape.\n",
        "\n",
        "For numeric columns, it returns:\n",
        "\n",
        "count, mean, std (standard deviation),\n",
        "\n",
        "min, 25%, 50% (median), 75%, and max.\n",
        "\n",
        "For object/categorical columns (with include='object' or include='all'), it adds:\n",
        "\n",
        "count, unique, top (most frequent), freq (its count)."
      ],
      "metadata": {
        "id": "Km9t_grKEu_S"
      }
    },
    {
      "cell_type": "code",
      "source": [
        "import pandas as pd\n",
        "df = pd.DataFrame({\n",
        "    \"Age\":[20,22,21,23,22],\n",
        "    \"Marks\":[88,91,85,90,87],\n",
        "    \"City\":[\"A\",\"B\",\"A\",\"B\",\"B\"]\n",
        "})\n",
        "print(df.describe())\n",
        "print(df.describe(include=\"all\"))\n"
      ],
      "metadata": {
        "id": "WmqNKPGzEzT8"
      },
      "execution_count": null,
      "outputs": []
    },
    {
      "cell_type": "markdown",
      "source": [
        "13. **Why is handling missing data important in Pandas**"
      ],
      "metadata": {
        "id": "n4V9sDNFE5Ww"
      }
    },
    {
      "cell_type": "markdown",
      "source": [
        "Missing data can distort analysis, break models, or produce wrong conclusions. If you ignore NaNs, averages become biased, correlations weaken, and algorithms may fail (many ML models cannot handle NaN directly).\n",
        "\n",
        "Common strategies:\n",
        "\n",
        "Detect: df.isna().sum() to count missing values per column.\n",
        "\n",
        "Drop: df.dropna() when rows are few and non-critical.\n",
        "\n",
        "Impute: df.fillna(value) with domain-appropriate values:\n",
        "\n",
        "Mean/median for numeric, mode for categorical,\n",
        "\n",
        "Forward/backward fill for time series (ffill, bfill),\n",
        "\n",
        "Interpolation for continuous series (interpolate())."
      ],
      "metadata": {
        "id": "0jvVY5k7FNL2"
      }
    },
    {
      "cell_type": "code",
      "source": [
        "import pandas as pd\n",
        "s = pd.Series([1.0, None, 3.0, None, 5.0])\n",
        "print(s.isna().sum())       # count missing\n",
        "print(s.fillna(s.mean()))   # mean imputation\n"
      ],
      "metadata": {
        "id": "0RNHq4owFRgr"
      },
      "execution_count": null,
      "outputs": []
    },
    {
      "cell_type": "markdown",
      "source": [
        "14. **What are the benefits of using Plotly for data visualization**"
      ],
      "metadata": {
        "id": "pqjpy5IjFhTa"
      }
    },
    {
      "cell_type": "markdown",
      "source": [
        "Plotly excels at interactive, shareable visualizations. With minimal code, you get hover tooltips, zoom/pan, legend toggles, and export to HTML for web or dashboards.\n",
        "\n",
        "Benefits:\n",
        "\n",
        "Interactivity by default: Users explore data without extra coding.\n",
        "\n",
        "High-level API: plotly.express builds complex charts from DataFrames easily.\n",
        "\n",
        "Wide chart types: From basic line/scatter to maps, 3D, animations, and treemaps.\n",
        "\n",
        "Dash integration: Build full web dashboards using Dash (Plotly’s framework).\n",
        "\n",
        "Beautiful defaults: Clean themes and sensible scales.\n",
        "\n",
        "Export options: Static images (with orca/kaleido) or interactive HTML."
      ],
      "metadata": {
        "id": "c65HTw8qFsAI"
      }
    },
    {
      "cell_type": "code",
      "source": [
        "import plotly.express as px\n",
        "fig = px.scatter(\n",
        "    px.data.iris(), x=\"sepal_width\", y=\"sepal_length\",\n",
        "    color=\"species\", title=\"Iris Scatter (Interactive)\"\n",
        ")\n",
        "fig.show()\n"
      ],
      "metadata": {
        "id": "Y9CR5PlBFwQ3"
      },
      "execution_count": null,
      "outputs": []
    },
    {
      "cell_type": "markdown",
      "source": [
        "15. **How does NumPy handle multidimensional arrays**"
      ],
      "metadata": {
        "id": "DIunlgS3FyQO"
      }
    },
    {
      "cell_type": "markdown",
      "source": [
        "NumPy stores data in the ndarray, which can be n-dimensional: 1D vectors, 2D matrices, 3D tensors, and more. Each array has a shape (size per dimension) and axes (dimensions you operate along).\n",
        "\n",
        "Key ideas:\n",
        "\n",
        "Shape & dtype: a.shape, a.ndim, a.dtype.\n",
        "\n",
        "Slicing: a[rows, cols] for 2D; works similarly for higher dimensions.\n",
        "\n",
        "Axis operations: a.sum(axis=0) (down columns), axis=1 (across rows).\n",
        "\n",
        "Broadcasting: Aligns shapes for element-wise operations.\n",
        "\n",
        "Reshape: a.reshape(new_shape) without copying when possible."
      ],
      "metadata": {
        "id": "BHSWmymUF7VB"
      }
    },
    {
      "cell_type": "code",
      "source": [
        "import numpy as np\n",
        "A = np.array([[1,2,3],\n",
        "              [4,5,6]])      # shape (2,3)\n",
        "print(A.sum(axis=0))          # [5 7 9] column sums\n",
        "print(A[:, 1])                # second column -> [2 5]\n",
        "\n",
        "B = np.arange(24).reshape(2,3,4)  # 3D array\n",
        "print(B.shape)                # (2, 3, 4)\n"
      ],
      "metadata": {
        "id": "TwPJCRnsGLrR"
      },
      "execution_count": null,
      "outputs": []
    },
    {
      "cell_type": "markdown",
      "source": [
        "16. **What is the role of Bokeh in data visualization**"
      ],
      "metadata": {
        "id": "dSXJ6HVeGOhC"
      }
    },
    {
      "cell_type": "markdown",
      "source": [
        "Bokeh is a Python library for interactive, web-based visualizations. It renders to modern browsers (HTML/JS) and supports server apps for streaming and real-time dashboards.\n",
        "\n",
        "Strengths:\n",
        "\n",
        "Interactivity: Hover tools, pan/zoom, selections, linked brushing.\n",
        "\n",
        "Server & streaming: Update plots from live data sources.\n",
        "\n",
        "Fine glyph control: Low-level primitives (circles, lines) plus high-level charts.\n",
        "\n",
        "Embeddable: Export to standalone HTML or integrate in web apps.\n",
        "\n",
        "Large datasets: Datashader integration for millions of points."
      ],
      "metadata": {
        "id": "HTFUD_FNGaSc"
      }
    },
    {
      "cell_type": "code",
      "source": [
        "from bokeh.plotting import figure, show\n",
        "from bokeh.io import output_notebook\n",
        "output_notebook()\n",
        "\n",
        "p = figure(title=\"Bokeh Scatter\")\n",
        "p.circle([1,2,3,4], [6,7,2,4], size=10)\n",
        "show(p)\n"
      ],
      "metadata": {
        "id": "V7Zg1XQAGe7t"
      },
      "execution_count": null,
      "outputs": []
    },
    {
      "cell_type": "markdown",
      "source": [
        "17. **Explain the difference between apply() and map() in Pandas**"
      ],
      "metadata": {
        "id": "82BEtfzAGiFg"
      }
    },
    {
      "cell_type": "markdown",
      "source": [
        "Series.map(func or dict): Works on a Series, applying a function or mapping values via a dict. It transforms each element independently.\n",
        "\n",
        "DataFrame.apply(func, axis=0/1): Works on a DataFrame, applying a function to each column (axis=0) or each row (axis=1). The function receives a Series."
      ],
      "metadata": {
        "id": "fmOE70J2GotO"
      }
    },
    {
      "cell_type": "code",
      "source": [
        "import pandas as pd\n",
        "s = pd.Series([\"a\",\"b\",\"c\"])\n",
        "print(s.map({\"a\":1,\"b\":2}))     # c becomes NaN (no mapping)\n",
        "\n",
        "df = pd.DataFrame({\"A\":[1,2,3],\"B\":[10,20,30]})\n",
        "# Column-wise sum (axis=0 is default)\n",
        "print(df.apply(sum))\n",
        "# Row-wise custom logic\n",
        "print(df.apply(lambda row: row[\"B\"] - row[\"A\"], axis=1))\n"
      ],
      "metadata": {
        "id": "xmbPjk7lGv4B"
      },
      "execution_count": null,
      "outputs": []
    },
    {
      "cell_type": "markdown",
      "source": [
        "18. **What are some advanced features of NumPy**"
      ],
      "metadata": {
        "id": "W0x8zAEDG045"
      }
    },
    {
      "cell_type": "markdown",
      "source": [
        "NumPy has many powerful features beyond basic arrays:\n",
        "\n",
        "Universal functions (ufuncs): Fast element-wise ops (np.add, np.sin) with broadcasting.\n",
        "\n",
        "einsum: Compact tensor algebra for speed and clarity.\n",
        "\n",
        "Views vs copies: Slicing returns views when possible (memory-efficient).\n",
        "\n",
        "Structured/record arrays: Columns with named fields and different dtypes.\n",
        "\n",
        "Masked arrays: Handle invalid/missing numeric values in calculations.\n",
        "\n",
        "Vectorization & broadcasting: Express complex math without loops.\n",
        "\n",
        "Random Generator: np.random.default_rng() with modern, reproducible algorithms.\n",
        "\n",
        "Linear algebra & FFT: np.linalg and np.fft for advanced math.\n",
        "\n",
        "Memory control: np.memmap for out-of-core arrays on disk."
      ],
      "metadata": {
        "id": "XNja3SOBG70g"
      }
    },
    {
      "cell_type": "code",
      "source": [
        "import numpy as np\n",
        "\n",
        "# einsum for matrix multiply (A @ B)\n",
        "A = np.arange(6).reshape(2,3)\n",
        "B = np.arange(6).reshape(3,2)\n",
        "C = np.einsum(\"ik,kj->ij\", A, B)\n",
        "\n",
        "# Structured array\n",
        "dt = np.dtype([(\"name\",\"U10\"),(\"age\",\"i4\")])\n",
        "rec = np.array([(\"Amit\",23),(\"Riya\",25)], dtype=dt)\n",
        "print(rec[\"age\"])  # [23 25]\n"
      ],
      "metadata": {
        "id": "w1KHzSoiHAWc"
      },
      "execution_count": null,
      "outputs": []
    },
    {
      "cell_type": "markdown",
      "source": [
        "19. **How does Pandas simplify time series analysis**"
      ],
      "metadata": {
        "id": "XN22DPgqHDL4"
      }
    },
    {
      "cell_type": "markdown",
      "source": [
        "Pandas treats dates as first-class citizens. With a DatetimeIndex, you can resample, window, shift, and time-zone-convert easily.\n",
        "\n",
        "Key features:\n",
        "\n",
        "Parsing dates: pd.to_datetime() converts strings to timestamps.\n",
        "\n",
        "Indexing by time: Slice by ranges (df[\"2024-01\":\"2024-03\"]).\n",
        "\n",
        "Resampling: Change frequency (e.g., daily → monthly) with resample().\n",
        "\n",
        "Rolling windows: rolling().mean() for moving averages.\n",
        "\n",
        "Shifts & lags: shift() for supervised learning features.\n",
        "\n",
        "Time zones: tz_localize() and tz_convert()."
      ],
      "metadata": {
        "id": "f9--zVjtHLeJ"
      }
    },
    {
      "cell_type": "code",
      "source": [
        "import pandas as pd\n",
        "dates = pd.date_range(\"2024-01-01\", periods=6, freq=\"D\")\n",
        "s = pd.Series([10,12,9,15,11,13], index=dates)\n",
        "\n",
        "monthly = s.resample(\"M\").mean()      # monthly mean\n",
        "rolling3 = s.rolling(3).mean()        # 3-day moving average\n",
        "lag1 = s.shift(1)                      # previous day's value\n"
      ],
      "metadata": {
        "id": "ezTt0eriHPfV"
      },
      "execution_count": null,
      "outputs": []
    },
    {
      "cell_type": "markdown",
      "source": [
        "20. **What is the role of a pivot table in Pandas**"
      ],
      "metadata": {
        "id": "hv8-_HDWHUMC"
      }
    },
    {
      "cell_type": "markdown",
      "source": [
        "A pivot table summarizes data like Excel’s PivotTable. It aggregates values across rows (index) and columns, producing a matrix of computed statistics (sum, mean, count, etc.).\n",
        "\n",
        "Typical use: Summarize Sales by Region × Product, Average score by Class × Subject, etc."
      ],
      "metadata": {
        "id": "8n142Df-Hf2O"
      }
    },
    {
      "cell_type": "code",
      "source": [
        "import pandas as pd\n",
        "df = pd.DataFrame({\n",
        "    \"Region\":[\"East\",\"East\",\"West\",\"West\",\"East\"],\n",
        "    \"Product\":[\"A\",\"B\",\"A\",\"B\",\"A\"],\n",
        "    \"Sales\":[100,150,120,130,90]\n",
        "})\n",
        "pt = pd.pivot_table(\n",
        "    df, values=\"Sales\",\n",
        "    index=\"Region\", columns=\"Product\",\n",
        "    aggfunc=\"sum\", fill_value=0\n",
        ")\n",
        "print(pt)\n"
      ],
      "metadata": {
        "id": "AyzLkqleHi_y"
      },
      "execution_count": null,
      "outputs": []
    },
    {
      "cell_type": "markdown",
      "source": [
        "21. **Why is NumPy’s array slicing faster than Python’s list slicing**"
      ],
      "metadata": {
        "id": "sB1-0NWJHmAj"
      }
    },
    {
      "cell_type": "markdown",
      "source": [
        "NumPy arrays store data in contiguous, typed memory. Slicing an array usually returns a view (no data copied), just a new strided window into the same memory. Operations on slices run in optimized C loops—no Python per-element overhead.\n",
        "\n",
        "Python lists store pointers to objects scattered in memory. Slicing creates a new list and copies references, and arithmetic requires Python loops or comprehension—much slower for large numeric work."
      ],
      "metadata": {
        "id": "TYs8m7sOHsxF"
      }
    },
    {
      "cell_type": "code",
      "source": [
        "import numpy as np\n",
        "a = np.array([1,2,3,4,5])\n",
        "s = a[1:4]      # view: [2,3,4]\n",
        "s[0] = 99\n",
        "print(a)        # [1,99,3,4,5]  original changed\n"
      ],
      "metadata": {
        "id": "M2cKixQEHxAQ"
      },
      "execution_count": null,
      "outputs": []
    },
    {
      "cell_type": "markdown",
      "source": [
        "22. ** What are some common use cases for Seaborn?**"
      ],
      "metadata": {
        "id": "26P0hJATHy_p"
      }
    },
    {
      "cell_type": "markdown",
      "source": [
        "Seaborn shines in statistical data exploration and tidy DataFrame workflows.\n",
        "\n",
        "Popular use cases:\n",
        "\n",
        "Distribution analysis: histplot, kdeplot, displot to study shapes, skew, and outliers.\n",
        "\n",
        "Categorical comparisons: boxplot, violinplot, stripplot, barplot for groups (e.g., sales by region).\n",
        "\n",
        "Relationships: scatterplot, lineplot, regplot (with regression fit & CI).\n",
        "\n",
        "Correlation & matrices: heatmap for correlation or confusion matrices.\n",
        "\n",
        "Pairwise EDA: pairplot to scan trends across many variables.\n",
        "\n",
        "Faceting: relplot, catplot to split visuals by category (rows/cols/hue), revealing subgroup patterns.\n",
        "\n",
        "Time series: lineplot with estimator=None for raw trajectories or with aggregation by category."
      ],
      "metadata": {
        "id": "FJitfgoxH5Fw"
      }
    },
    {
      "cell_type": "code",
      "source": [
        "import seaborn as sns\n",
        "tips = sns.load_dataset(\"tips\")\n",
        "sns.barplot(data=tips, x=\"day\", y=\"total_bill\", estimator=sum)\n",
        "sns.heatmap(tips.corr(numeric_only=True), annot=True)\n"
      ],
      "metadata": {
        "id": "aQlQxUZNH_MO"
      },
      "execution_count": null,
      "outputs": []
    },
    {
      "cell_type": "markdown",
      "source": [
        "                    **Practical**"
      ],
      "metadata": {
        "id": "6syO4m1zIWXL"
      }
    },
    {
      "cell_type": "markdown",
      "source": [
        "Q1. **How do you create a 2D NumPy array and calculate the sum of each row**"
      ],
      "metadata": {
        "id": "H303I-4_IvV7"
      }
    },
    {
      "cell_type": "code",
      "source": [
        "import numpy as np\n",
        "\n",
        "# Create a 2D NumPy array\n",
        "arr = np.array([[1, 2, 3],\n",
        "                [4, 5, 6],\n",
        "                [7, 8, 9]])\n",
        "\n",
        "print(\"2D Array:\\n\", arr)\n",
        "\n",
        "# Sum of each row (axis=1 means row-wise)\n",
        "row_sum = arr.sum(axis=1)\n",
        "print(\"Sum of each row:\", row_sum)\n"
      ],
      "metadata": {
        "id": "sgIF8sl9JYNT"
      },
      "execution_count": null,
      "outputs": []
    },
    {
      "cell_type": "code",
      "source": [
        "#OUTPUT\n",
        "2D Array:\n",
        " [[1 2 3]\n",
        "  [4 5 6]\n",
        "  [7 8 9]]\n",
        "Sum of each row: [ 6 15 24]\n"
      ],
      "metadata": {
        "id": "81zH1QVwJdeW"
      },
      "execution_count": null,
      "outputs": []
    },
    {
      "cell_type": "markdown",
      "source": [
        "Q2. **Write a Pandas script to find the mean of a specific column in a DataFrame**"
      ],
      "metadata": {
        "id": "MvS0Yqx0JkgG"
      }
    },
    {
      "cell_type": "code",
      "source": [
        "import pandas as pd\n",
        "\n",
        "# Create a DataFrame\n",
        "data = {\n",
        "    \"Name\": [\"Amit\", \"Riya\", \"John\", \"Sara\"],\n",
        "    \"Marks\": [85, 90, 88, 92]\n",
        "}\n",
        "df = pd.DataFrame(data)\n",
        "\n",
        "# Mean of \"Marks\" column\n",
        "mean_marks = df[\"Marks\"].mean()\n",
        "print(\"Mean of Marks:\", mean_marks)\n"
      ],
      "metadata": {
        "id": "gh90v5n1Jrxc"
      },
      "execution_count": null,
      "outputs": []
    },
    {
      "cell_type": "code",
      "source": [
        "#OUTPUT\n",
        "Mean of Marks: 88.75\n"
      ],
      "metadata": {
        "id": "13eQXE2FJwKb"
      },
      "execution_count": null,
      "outputs": []
    },
    {
      "cell_type": "markdown",
      "source": [
        "Q3. **Create a scatter plot using Matplotlib**"
      ],
      "metadata": {
        "id": "cW2y6QJiJ3WT"
      }
    },
    {
      "cell_type": "code",
      "source": [
        "import matplotlib.pyplot as plt\n",
        "\n",
        "x = [5, 7, 8, 7, 6, 9, 5]\n",
        "y = [99, 86, 87, 88, 100, 86, 103]\n",
        "\n",
        "plt.scatter(x, y, color=\"blue\", marker=\"o\")\n",
        "plt.title(\"Scatter Plot Example\")\n",
        "plt.xlabel(\"X-axis\")\n",
        "plt.ylabel(\"Y-axis\")\n",
        "plt.show()\n"
      ],
      "metadata": {
        "id": "ryAM3VSTJ-sN"
      },
      "execution_count": null,
      "outputs": []
    },
    {
      "cell_type": "markdown",
      "source": [
        "Q4. **How do you calculate the correlation matrix using Seaborn and visualize it with a heatmap**"
      ],
      "metadata": {
        "id": "be7hR1PZKBjP"
      }
    },
    {
      "cell_type": "code",
      "source": [
        "import seaborn as sns\n",
        "import pandas as pd\n",
        "\n",
        "# Sample DataFrame\n",
        "df = pd.DataFrame({\n",
        "    \"Maths\": [88, 92, 80, 89, 100],\n",
        "    \"Science\": [84, 94, 70, 96, 88],\n",
        "    \"English\": [78, 90, 82, 85, 95]\n",
        "})\n",
        "\n",
        "# Calculate correlation matrix\n",
        "corr = df.corr()\n",
        "\n",
        "# Heatmap visualization\n",
        "sns.heatmap(corr, annot=True, cmap=\"coolwarm\")\n"
      ],
      "metadata": {
        "id": "PA54r6gSKGry"
      },
      "execution_count": null,
      "outputs": []
    },
    {
      "cell_type": "markdown",
      "source": [
        "Q5. **Generate a bar plot using Plotly**"
      ],
      "metadata": {
        "id": "O2ahH1zxKKYY"
      }
    },
    {
      "cell_type": "code",
      "source": [
        "import plotly.express as px\n",
        "\n",
        "data = {\"Fruits\": [\"Apple\", \"Banana\", \"Orange\", \"Grapes\"],\n",
        "        \"Sales\": [100, 150, 120, 90]}\n",
        "\n",
        "fig = px.bar(data, x=\"Fruits\", y=\"Sales\", title=\"Fruit Sales\")\n",
        "fig.show()\n"
      ],
      "metadata": {
        "id": "EaeuyeCzKQDJ"
      },
      "execution_count": null,
      "outputs": []
    },
    {
      "cell_type": "markdown",
      "source": [
        "Q6. **Create a DataFrame and add a new column based on an existing column**"
      ],
      "metadata": {
        "id": "grJ5w8I4KSlc"
      }
    },
    {
      "cell_type": "code",
      "source": [
        "import pandas as pd\n",
        "\n",
        "df = pd.DataFrame({\n",
        "    \"Name\": [\"Amit\", \"Riya\", \"John\"],\n",
        "    \"Marks\": [80, 90, 85]\n",
        "})\n",
        "\n",
        "# Add new column \"Result\" based on Marks\n",
        "df[\"Result\"] = df[\"Marks\"].apply(lambda x: \"Pass\" if x >= 85 else \"Fail\")\n",
        "print(df)\n"
      ],
      "metadata": {
        "id": "exhqyZo0KZf1"
      },
      "execution_count": null,
      "outputs": []
    },
    {
      "cell_type": "code",
      "source": [
        "#OUTPUT\n",
        "   Name  Marks Result\n",
        "0  Amit     80   Fail\n",
        "1  Riya     90   Pass\n",
        "2  John     85   Pass\n"
      ],
      "metadata": {
        "id": "Z2oURGLHKdJo"
      },
      "execution_count": null,
      "outputs": []
    },
    {
      "cell_type": "markdown",
      "source": [
        "Q7. **Write a program to perform element-wise multiplication of two NumPy arrays**"
      ],
      "metadata": {
        "id": "JiSFjE-EKon_"
      }
    },
    {
      "cell_type": "code",
      "source": [
        "import numpy as np\n",
        "\n",
        "a = np.array([2, 4, 6])\n",
        "b = np.array([1, 3, 5])\n",
        "\n",
        "result = a * b\n",
        "print(\"Element-wise multiplication:\", result)\n"
      ],
      "metadata": {
        "id": "wCvj4pwPKvbG"
      },
      "execution_count": null,
      "outputs": []
    },
    {
      "cell_type": "code",
      "source": [
        "#OUTPUT\n",
        "Element-wise multiplication: [ 2 12 30]\n"
      ],
      "metadata": {
        "id": "tftrVVt0KwPN"
      },
      "execution_count": null,
      "outputs": []
    },
    {
      "cell_type": "markdown",
      "source": [
        "Q8. **A Create a line plot with multiple lines using MatplotlibA**"
      ],
      "metadata": {
        "id": "kO89xI5aK1Lv"
      }
    },
    {
      "cell_type": "code",
      "source": [
        "import matplotlib.pyplot as plt\n",
        "\n",
        "x = [1, 2, 3, 4, 5]\n",
        "y1 = [2, 4, 6, 8, 10]\n",
        "y2 = [1, 3, 5, 7, 9]\n",
        "\n",
        "plt.plot(x, y1, label=\"Line 1\", marker=\"o\")\n",
        "plt.plot(x, y2, label=\"Line 2\", marker=\"s\")\n",
        "\n",
        "plt.title(\"Multiple Line Plot\")\n",
        "plt.xlabel(\"X-axis\")\n",
        "plt.ylabel(\"Y-axis\")\n",
        "plt.legend()\n",
        "plt.show()\n"
      ],
      "metadata": {
        "id": "sPXWdKZHK7GY"
      },
      "execution_count": null,
      "outputs": []
    },
    {
      "cell_type": "markdown",
      "source": [
        "Q9. **Generate a Pandas DataFrame and filter rows where a column value is greater than a threshold**"
      ],
      "metadata": {
        "id": "Bt1pKPfjK9gK"
      }
    },
    {
      "cell_type": "code",
      "source": [
        "import pandas as pd\n",
        "\n",
        "df = pd.DataFrame({\n",
        "    \"Name\": [\"Amit\", \"Riya\", \"John\", \"Sara\"],\n",
        "    \"Marks\": [70, 85, 92, 60]\n",
        "})\n",
        "\n",
        "# Filter rows where Marks > 75\n",
        "filtered = df[df[\"Marks\"] > 75]\n",
        "print(filtered)\n"
      ],
      "metadata": {
        "id": "F5WTLqCwLB_C"
      },
      "execution_count": null,
      "outputs": []
    },
    {
      "cell_type": "code",
      "source": [
        "#OUTPUT\n",
        "   Name  Marks\n",
        "1  Riya     85\n",
        "2  John     92\n"
      ],
      "metadata": {
        "id": "a7j2tqoiLExr"
      },
      "execution_count": null,
      "outputs": []
    },
    {
      "cell_type": "markdown",
      "source": [
        "Q10. ** Create a histogram using Seaborn to visualize a distribution**"
      ],
      "metadata": {
        "id": "za6lm-qmLJUJ"
      }
    },
    {
      "cell_type": "code",
      "source": [
        "import seaborn as sns\n",
        "import numpy as np\n",
        "\n",
        "data = np.random.randn(100)  # 100 random numbers\n",
        "\n",
        "sns.histplot(data, bins=10, kde=True, color=\"blue\")\n"
      ],
      "metadata": {
        "id": "4N3FauyqLOtF"
      },
      "execution_count": null,
      "outputs": []
    },
    {
      "cell_type": "markdown",
      "source": [
        "Q11. **Perform matrix multiplication using NumPy**"
      ],
      "metadata": {
        "id": "uYANJImKLRWW"
      }
    },
    {
      "cell_type": "code",
      "source": [
        "import numpy as np\n",
        "\n",
        "A = np.array([[1, 2], [3, 4]])\n",
        "B = np.array([[5, 6], [7, 8]])\n",
        "\n",
        "result = np.dot(A, B)  # or A @ B\n",
        "print(\"Matrix Multiplication:\\n\", result)\n"
      ],
      "metadata": {
        "id": "Tvr329zZLWdP"
      },
      "execution_count": null,
      "outputs": []
    },
    {
      "cell_type": "code",
      "source": [
        "#OUTPUT\n",
        "[[19 22]\n",
        " [43 50]]\n"
      ],
      "metadata": {
        "id": "I7sxgZpWLdee"
      },
      "execution_count": null,
      "outputs": []
    },
    {
      "cell_type": "markdown",
      "source": [
        "Q12. **Use Pandas to load a CSV file and display its first 5 rows**"
      ],
      "metadata": {
        "id": "DDcYnSsBLlER"
      }
    },
    {
      "cell_type": "code",
      "source": [
        "import pandas as pd\n",
        "\n",
        "# Load CSV (replace 'data.csv' with your file path)\n",
        "df = pd.read_csv(\"data.csv\")\n",
        "\n",
        "print(df.head())  # first 5 rows\n"
      ],
      "metadata": {
        "id": "ng34g0-sLqbl"
      },
      "execution_count": null,
      "outputs": []
    },
    {
      "cell_type": "markdown",
      "source": [
        "Q13. **A Create a 3D scatter plot using Plotly.**"
      ],
      "metadata": {
        "id": "L4Y0tRwDLx_v"
      }
    },
    {
      "cell_type": "code",
      "source": [
        "import plotly.express as px\n",
        "import pandas as pd\n",
        "\n",
        "df = pd.DataFrame({\n",
        "    \"x\": [1, 2, 3, 4, 5],\n",
        "    \"y\": [10, 11, 12, 13, 14],\n",
        "    \"z\": [5, 6, 7, 8, 9],\n",
        "    \"category\": [\"A\", \"B\", \"A\", \"B\", \"A\"]\n",
        "})\n",
        "\n",
        "fig = px.scatter_3d(df, x=\"x\", y=\"y\", z=\"z\", color=\"category\", size=\"z\")\n",
        "fig.show()\n"
      ],
      "metadata": {
        "id": "YIQzp0K5L4Kh"
      },
      "execution_count": null,
      "outputs": []
    },
    {
      "cell_type": "markdown",
      "source": [],
      "metadata": {
        "id": "rn3ZPG4MIjw-"
      }
    }
  ]
}